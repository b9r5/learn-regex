{
 "cells": [
  {
   "cell_type": "markdown",
   "id": "46e48210-1db5-4977-8872-d61b3c7df211",
   "metadata": {},
   "source": [
    "**Abstract.**\n",
    "I reached the point in my machine learning journey where I understand the basic concepts\n",
    "(backpropagation, regularization, CNNs, RNNs, and transformers), but wanted to dig deeper.\n",
    "The machine learning engineers that I knew suggested that I train a model for a problem I\n",
    "found interesting. I selected learning regular expressions from examples as a toy problem.\n",
    "TODO"
   ]
  },
  {
   "cell_type": "markdown",
   "id": "7da333ee-3050-478c-99ad-60c0f6d3286f",
   "metadata": {},
   "source": [
    "# Generating training data\n",
    "\n",
    "My plan was:\n",
    "\n",
    "1. Generate random regular expressions (regexes).\n",
    "2. For each regex, generate some number of strings matching the regex.\n",
    "3. For training data, let the $(x, y)$ input-output pairs be defined by:\n",
    "   * $y$, a regex\n",
    "   * $x$, a list of strings matching $y$, one per line\n",
    "4. During training, reward if a forward pass through the network, starting with input $x$,\n",
    "   produces an output $\\hat{y}$ such that $y$ and $\\hat{y}$ recognize the same strings."
   ]
  },
  {
   "cell_type": "markdown",
   "id": "461baa34-a467-4c78-b9c5-d689f037cb0d",
   "metadata": {},
   "source": [
    "## Generating random regular expressions\n",
    "\n",
    "TODO"
   ]
  },
  {
   "cell_type": "markdown",
   "id": "167e046e-9e9c-44fb-93ba-e8cc9ca5a1db",
   "metadata": {},
   "source": [
    "## Generating strings matching a regex\n",
    "\n",
    "To generate strings matching a regex, I first converted the regex into a non-deterministic\n",
    "finite automaton (NFA), then followed random paths through the NFA from an initial node to\n",
    "a terminal node.\n",
    "\n",
    "To work with regular expressions and finite automata, I started with\n",
    "[Megha Bose's](https://github.com/Megha-Bose)\n",
    "[Automata Theory Conversions](https://github.com/Megha-Bose/Automata-Theory-Conversions)\n",
    "code. It wasn't licensed, so I asked her permission, and she said to go ahead.\n",
    "\n",
    "### Walkthrough of Automata-Theory-Conversions\n",
    "\n",
    "#### Step 1: rewrite regex (add concatenation, convert to postfix)\n",
    "\n",
    "The first step in computing a regex to an NFA is to parse it. For this, it's useful to\n",
    "rewrite the regex in a couple of ways:\n",
    "\n",
    "1. Add concatenation symbols for convenience.\n",
    "2. Convert the regex to postfix order."
   ]
  },
  {
   "cell_type": "code",
   "execution_count": 1,
   "id": "9808c69c-0be5-4c58-829d-fe21d636bdc3",
   "metadata": {
    "execution": {
     "iopub.execute_input": "2023-07-24T14:11:50.636020Z",
     "iopub.status.busy": "2023-07-24T14:11:50.635000Z",
     "iopub.status.idle": "2023-07-24T14:11:50.647989Z",
     "shell.execute_reply": "2023-07-24T14:11:50.646698Z",
     "shell.execute_reply.started": "2023-07-24T14:11:50.635990Z"
    }
   },
   "outputs": [],
   "source": [
    "# Union, Kleene star, concatenation, and grouping operations.\n",
    "# All other characters are considered symbols\n",
    "operators = ['+', '*', '.', '(', ')']\n",
    "\n",
    "\n",
    "def add_concat(regex):\n",
    "    \"\"\"\n",
    "    Adds concatenation operators ('.') to the input regex for convenience.\n",
    "    \n",
    "    Args:\n",
    "      regex: a string representing the regular expression\n",
    "      \n",
    "    Returns:\n",
    "      a list representing the regular expression with added concatenation operators\n",
    "    \"\"\"\n",
    "    \n",
    "    global non_symbols\n",
    "\n",
    "    result = []\n",
    "    for i in range(len(regex) - 1):\n",
    "        result.append(regex[i])\n",
    "        if regex[i] not in operators:\n",
    "            if regex[i + 1] not in operators or regex[i + 1] == '(':\n",
    "                result += '.'\n",
    "        elif regex[i] == ')' and regex[i + 1] == '(':\n",
    "            result += '.'\n",
    "        elif regex[i] == '*' and regex[i + 1] == '(':\n",
    "            result += '.'\n",
    "        elif regex[i] == '*' and regex[i + 1] not in operators:\n",
    "            result += '.'\n",
    "        elif regex[i] == ')' and regex[i + 1] not in operators:\n",
    "            result += '.'\n",
    "\n",
    "    result += regex[-1]\n",
    "    return result"
   ]
  },
  {
   "cell_type": "code",
   "execution_count": 2,
   "id": "30138fea-f04c-4f29-ab4b-71b5e2ab7557",
   "metadata": {
    "execution": {
     "iopub.execute_input": "2023-07-24T14:11:54.081616Z",
     "iopub.status.busy": "2023-07-24T14:11:54.080789Z",
     "iopub.status.idle": "2023-07-24T14:11:54.088008Z",
     "shell.execute_reply": "2023-07-24T14:11:54.086750Z",
     "shell.execute_reply.started": "2023-07-24T14:11:54.081566Z"
    }
   },
   "outputs": [
    {
     "name": "stdout",
     "output_type": "stream",
     "text": [
      "['a', '.', 'b', '*']\n",
      "['(', 'a', '.', 'b', ')', '*']\n"
     ]
    }
   ],
   "source": [
    "print(add_concat(\"ab*\"))\n",
    "print(add_concat(\"(ab)*\"))"
   ]
  },
  {
   "cell_type": "code",
   "execution_count": 3,
   "id": "0112db8a-8d38-4582-992a-8ebf17414237",
   "metadata": {
    "execution": {
     "iopub.execute_input": "2023-07-24T14:11:55.901779Z",
     "iopub.status.busy": "2023-07-24T14:11:55.901453Z",
     "iopub.status.idle": "2023-07-24T14:11:55.910103Z",
     "shell.execute_reply": "2023-07-24T14:11:55.909190Z",
     "shell.execute_reply.started": "2023-07-24T14:11:55.901752Z"
    }
   },
   "outputs": [],
   "source": [
    "def compare_precedence(a, b):\n",
    "    \"\"\"\n",
    "    Compares the precendence of the +, ., and * operators.\n",
    "    \n",
    "    Args:\n",
    "      a: the first operator\n",
    "      b: the second operator\n",
    "      \n",
    "    Returns:\n",
    "      True iff a has precedence over b\n",
    "    \"\"\"\n",
    "    p = [\"+\", \".\", \"*\"]\n",
    "    return p.index(a) > p.index(b)\n",
    "\n",
    "\n",
    "def compute_postfix(regexp):\n",
    "    \"\"\"\n",
    "    Converts an input regex to postfix order.\n",
    "    \n",
    "    Args:\n",
    "      regex: list of regex operators and symbols\n",
    "      \n",
    "    Returns:\n",
    "      list representing the regular expression in postfix order\n",
    "    \"\"\"\n",
    "    \n",
    "    stack = []\n",
    "    result = []\n",
    "\n",
    "    for c in regexp:\n",
    "        if c not in operators or c == \"*\":\n",
    "            result += c\n",
    "        elif c == \")\":\n",
    "            while len(stack) > 0 and stack[-1] != \"(\":\n",
    "                result += stack.pop()\n",
    "            stack.pop()\n",
    "        elif c == \"(\":\n",
    "            stack.append(c)\n",
    "        elif len(stack) == 0 or stack[-1] == \"(\" or compare_precedence(c, stack[-1]):\n",
    "            stack.append(c)\n",
    "        else:\n",
    "            while len(stack) > 0 and stack[-1] != \"(\" and not compare_precedence(c, stack[-1]):\n",
    "                result += stack.pop()\n",
    "            stack.append(c)\n",
    "\n",
    "    while len(stack) > 0:\n",
    "        result += stack.pop()\n",
    "\n",
    "    return result"
   ]
  },
  {
   "cell_type": "code",
   "execution_count": 4,
   "id": "aa53c8e8-dc4f-4012-8911-60bbe29a83e3",
   "metadata": {
    "execution": {
     "iopub.execute_input": "2023-07-24T14:11:59.293428Z",
     "iopub.status.busy": "2023-07-24T14:11:59.292837Z",
     "iopub.status.idle": "2023-07-24T14:11:59.301212Z",
     "shell.execute_reply": "2023-07-24T14:11:59.299356Z",
     "shell.execute_reply.started": "2023-07-24T14:11:59.293401Z"
    }
   },
   "outputs": [
    {
     "name": "stdout",
     "output_type": "stream",
     "text": [
      "['a', 'b', '.']\n",
      "['a', 'b', '.']\n",
      "['a', 'b', '*', '.']\n",
      "['a', 'b', '.', '*']\n"
     ]
    }
   ],
   "source": [
    "print(compute_postfix(['a', '.', 'b']))\n",
    "print(compute_postfix(['(', 'a', '.', 'b', ')']))\n",
    "print(compute_postfix(['a', '.', 'b', '*']))\n",
    "print(compute_postfix(['(', 'a', '.', 'b', ')', '*']))"
   ]
  },
  {
   "cell_type": "markdown",
   "id": "56116bc1-6fff-4c3b-bcb8-e9c8dfc06a3c",
   "metadata": {},
   "source": [
    "#### Step 2: create expression tree from regex\n",
    "\n",
    "Having converted the regex to postfix order, we create an expression tree from it. "
   ]
  },
  {
   "cell_type": "code",
   "execution_count": 5,
   "id": "c3624189-0cd8-4328-a3c3-531e44d334a8",
   "metadata": {
    "execution": {
     "iopub.execute_input": "2023-07-24T14:12:02.080481Z",
     "iopub.status.busy": "2023-07-24T14:12:02.080015Z",
     "iopub.status.idle": "2023-07-24T14:12:02.090450Z",
     "shell.execute_reply": "2023-07-24T14:12:02.089594Z",
     "shell.execute_reply.started": "2023-07-24T14:12:02.080443Z"
    }
   },
   "outputs": [],
   "source": [
    "class OpType:\n",
    "    \"\"\"\n",
    "    Constants for operator types.\n",
    "    \"\"\"\n",
    "    SYMBOL = 1\n",
    "    CONCAT = 2\n",
    "    UNION  = 3\n",
    "    KLEENE = 4\n",
    "\n",
    "\n",
    "class ExpressionNode:\n",
    "    \"\"\"\n",
    "    Node in an expression tree.\n",
    "    \"\"\"\n",
    "    \n",
    "    def __init__(self, op_type, value=None):\n",
    "        self.op_type = op_type\n",
    "        self.value = value\n",
    "        self.left = None\n",
    "        self.right = None\n",
    "\n",
    "    def __str__(self):\n",
    "        \"\"\"\n",
    "        Converts the node to a string in infix order, adding a lot of parens.\n",
    "        \"\"\"\n",
    "\n",
    "        if self.op_type == OpType.SYMBOL:\n",
    "            return self.value\n",
    "        elif self.op_type == OpType.CONCAT:\n",
    "            return '(' + self.left.__str__() + ').(' + self.right.__str__() + ')'\n",
    "        elif self.op_type == OpType.UNION:\n",
    "            return '((' + self.left.__str__() + ')+(' + self.right.__str__() + '))'\n",
    "        elif self.op_type == OpType.KLEENE:\n",
    "            return '(' + self.left.__str__() + ')*'\n",
    "        else:\n",
    "            raise Exception(f'unknown op type {self.op_type}')\n",
    "        \n",
    "\n",
    "def make_expression_tree(regexp):\n",
    "    \"\"\"\n",
    "    Makes an expression tree from a regex.\n",
    "    \n",
    "    Args:\n",
    "      regex: a regular expression in postfix form\n",
    "      \n",
    "    Returns:\n",
    "      an expression tree\n",
    "    \"\"\"\n",
    "    \n",
    "    stack = []\n",
    "\n",
    "    for c in regexp:\n",
    "        if c == \"+\":\n",
    "            z = ExpressionNode(OpType.UNION)\n",
    "            z.right = stack.pop()\n",
    "            z.left = stack.pop()\n",
    "            stack.append(z)\n",
    "        elif c == \".\":\n",
    "            z = ExpressionNode(OpType.CONCAT)\n",
    "            z.right = stack.pop()\n",
    "            z.left = stack.pop()\n",
    "            stack.append(z)\n",
    "        elif c == \"*\":\n",
    "            z = ExpressionNode(OpType.KLEENE)\n",
    "            z.left = stack.pop() \n",
    "            stack.append(z)\n",
    "        elif c == \"(\" or c == \")\":\n",
    "            continue  # just for safety; our input does not contain parens\n",
    "        else:\n",
    "            stack.append(ExpressionNode(OpType.SYMBOL, c))\n",
    "    return stack[0]"
   ]
  },
  {
   "cell_type": "code",
   "execution_count": 6,
   "id": "0d82de9e-8028-433b-944a-cbee0446a7ec",
   "metadata": {
    "execution": {
     "iopub.execute_input": "2023-07-24T14:12:05.601843Z",
     "iopub.status.busy": "2023-07-24T14:12:05.601238Z",
     "iopub.status.idle": "2023-07-24T14:12:05.606763Z",
     "shell.execute_reply": "2023-07-24T14:12:05.605799Z",
     "shell.execute_reply.started": "2023-07-24T14:12:05.601816Z"
    }
   },
   "outputs": [
    {
     "name": "stdout",
     "output_type": "stream",
     "text": [
      "(a).(b)\n",
      "(a).((b)*)\n",
      "((a).(b))*\n"
     ]
    }
   ],
   "source": [
    "print(make_expression_tree(['a', 'b', '.']))\n",
    "print(make_expression_tree(['a', 'b', '*', '.']))\n",
    "print(make_expression_tree(['a', 'b', '.', '*']))"
   ]
  },
  {
   "cell_type": "markdown",
   "id": "cd8f2bbc-a626-4f65-9215-20662287258c",
   "metadata": {},
   "source": [
    "#### Step 3: convert expression tree into a NFA\n",
    "\n",
    "Having parsed the regex into a tree, we now convert the tree into a nondeterministic finite automaton (NFA).\n",
    "\n",
    "We use `$` to denote the empty string; in textbooks $\\epsilon$ normally denotes the empty string."
   ]
  },
  {
   "cell_type": "code",
   "execution_count": 17,
   "id": "54818dcf-c653-421e-affe-459ec12fa6c3",
   "metadata": {
    "execution": {
     "iopub.execute_input": "2023-07-24T14:15:09.593969Z",
     "iopub.status.busy": "2023-07-24T14:15:09.593536Z",
     "iopub.status.idle": "2023-07-24T14:15:09.605870Z",
     "shell.execute_reply": "2023-07-24T14:15:09.604410Z",
     "shell.execute_reply.started": "2023-07-24T14:15:09.593925Z"
    }
   },
   "outputs": [],
   "source": [
    "class NFAState:\n",
    "    def __init__(self):\n",
    "        self.next_state = {}\n",
    "\n",
    "def compute_nfa(node):\n",
    "    \"\"\"\n",
    "    Compute the NFA for an ExpressionNode.\n",
    "    \n",
    "    Args:\n",
    "      node: an ExpressionNode\n",
    "      \n",
    "    Returns:\n",
    "      the start and end NFAState for node\n",
    "    \"\"\"\n",
    "    \n",
    "    if node.op_type == OpType.CONCAT:\n",
    "        left_nfa  = compute_nfa(node.left)\n",
    "        right_nfa = compute_nfa(node.right)\n",
    "\n",
    "        # '$' represents the empty string (usually denoted epsilon)\n",
    "        left_nfa[1].next_state['$'] = [right_nfa[0]]\n",
    "        return left_nfa[0], right_nfa[1]\n",
    "\n",
    "    elif node.op_type == OpType.UNION:\n",
    "        start = NFAState()\n",
    "        end = NFAState()\n",
    "\n",
    "        first_nfa = compute_nfa(node.left)\n",
    "        second_nfa = compute_nfa(node.right)\n",
    "\n",
    "        start.next_state['$'] = [first_nfa[0], second_nfa[0]]\n",
    "        first_nfa[1].next_state['$'] = [end]\n",
    "        second_nfa[1].next_state['$'] = [end]\n",
    "\n",
    "        return start, end\n",
    "\n",
    "    elif node.op_type == OpType.KLEENE:\n",
    "        start = NFAState()\n",
    "        end = NFAState()\n",
    "\n",
    "        starred_nfa = compute_nfa(node.left)\n",
    "\n",
    "        start.next_state['$'] = [starred_nfa[0], end]\n",
    "        starred_nfa[1].next_state['$'] = [starred_nfa[0], end]\n",
    "        \n",
    "        return start, end\n",
    "\n",
    "    elif node.op_type == OpType.SYMBOL:\n",
    "        start = NFAState()\n",
    "        end = NFAState()\n",
    "        start.next_state[node.value] = end\n",
    "        return start, end\n",
    "    \n",
    "    else:\n",
    "        raise Exception(f'unknown op type {node.op_type}')"
   ]
  },
  {
   "cell_type": "markdown",
   "id": "da31743a-2329-4555-afe3-dd1a3953cee9",
   "metadata": {},
   "source": [
    "#### Putting steps 1-3 together\n",
    "\n",
    "We now wrap up steps 1-3 in a function that takes a regex as argument and returns an NFA."
   ]
  },
  {
   "cell_type": "code",
   "execution_count": 18,
   "id": "22164b18-2640-4e4e-bb79-2028db267d5d",
   "metadata": {
    "execution": {
     "iopub.execute_input": "2023-07-24T14:15:12.900777Z",
     "iopub.status.busy": "2023-07-24T14:15:12.900449Z",
     "iopub.status.idle": "2023-07-24T14:15:12.906685Z",
     "shell.execute_reply": "2023-07-24T14:15:12.905217Z",
     "shell.execute_reply.started": "2023-07-24T14:15:12.900750Z"
    }
   },
   "outputs": [],
   "source": [
    "def regex_to_nfa(regex):\n",
    "    \"\"\"\n",
    "    Compute the NFA for a regular expression.\n",
    "    \n",
    "    Args:\n",
    "      regex: a regular expression\n",
    "    \n",
    "    Returns:\n",
    "      the start and end NFAState\n",
    "    \"\"\"\n",
    "    \n",
    "    concat = add_concat(regex)\n",
    "    postfix = compute_postfix(concat)\n",
    "    tree = make_expression_tree(postfix)\n",
    "    start, end = compute_nfa(tree)\n",
    "    return start, end"
   ]
  },
  {
   "cell_type": "code",
   "execution_count": 19,
   "id": "47da7913-bbfb-412f-9245-5bee87dbef29",
   "metadata": {
    "execution": {
     "iopub.execute_input": "2023-07-24T14:15:15.830137Z",
     "iopub.status.busy": "2023-07-24T14:15:15.829797Z",
     "iopub.status.idle": "2023-07-24T14:15:15.835721Z",
     "shell.execute_reply": "2023-07-24T14:15:15.834376Z",
     "shell.execute_reply.started": "2023-07-24T14:15:15.830111Z"
    }
   },
   "outputs": [
    {
     "name": "stdout",
     "output_type": "stream",
     "text": [
      "(<__main__.NFAState object at 0x7f357415c460>, <__main__.NFAState object at 0x7f357415cc40>)\n",
      "(<__main__.NFAState object at 0x7f357415cdf0>, <__main__.NFAState object at 0x7f357415cf70>)\n"
     ]
    }
   ],
   "source": [
    "print(regex_to_nfa(\"ab*\"))\n",
    "print(regex_to_nfa(\"(ab)*\"))"
   ]
  },
  {
   "cell_type": "markdown",
   "id": "f41cb82f-69c3-4e74-9f7f-c36cbd7e4164",
   "metadata": {},
   "source": [
    "### Random paths through an NFA\n",
    "\n",
    "Starting with an NFA, we've generated a regex. The next step is to generate strings matching\n",
    "the regex from the NFA. To do that, we follow a random path through the NFA from the initial\n",
    "node. We build the sequence of edge labels we see along the path traveled so far. When we reach\n",
    "the terminal node, we output the edge labels we saw."
   ]
  },
  {
   "cell_type": "code",
   "execution_count": 9,
   "id": "c306a13c-f61f-4ace-9680-1036956ef8d2",
   "metadata": {
    "execution": {
     "iopub.execute_input": "2023-07-22T23:53:28.266049Z",
     "iopub.status.busy": "2023-07-22T23:53:28.265318Z",
     "iopub.status.idle": "2023-07-22T23:53:28.290461Z",
     "shell.execute_reply": "2023-07-22T23:53:28.289546Z",
     "shell.execute_reply.started": "2023-07-22T23:53:28.266022Z"
    }
   },
   "outputs": [],
   "source": [
    "# TODO"
   ]
  },
  {
   "cell_type": "markdown",
   "id": "a3976dee-3ed3-4a61-9214-08af8557eb68",
   "metadata": {},
   "source": [
    "TODO detail on equivalence of regular expressions"
   ]
  }
 ],
 "metadata": {
  "kernelspec": {
   "display_name": "Python 3 (ipykernel)",
   "language": "python",
   "name": "python3"
  },
  "language_info": {
   "codemirror_mode": {
    "name": "ipython",
    "version": 3
   },
   "file_extension": ".py",
   "mimetype": "text/x-python",
   "name": "python",
   "nbconvert_exporter": "python",
   "pygments_lexer": "ipython3",
   "version": "3.9.16"
  }
 },
 "nbformat": 4,
 "nbformat_minor": 5
}
